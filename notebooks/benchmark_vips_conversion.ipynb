{
 "cells": [
  {
   "cell_type": "markdown",
   "metadata": {},
   "source": [
    "## VIPS Benchmarking for 3DHistech Tiff Files"
   ]
  },
  {
   "cell_type": "markdown",
   "metadata": {},
   "source": [
    "Command structure: \n",
    "\n",
    "```\n",
    "vips tiffsave input_file output_file.tif \\\n",
    "    --compression COMPRESSION \\\n",
    "    --Q QUALITY \\\n",
    "    --pyramid \\\n",
    "    --tile \\\n",
    "    --tile-width TILE_WIDTH \\\n",
    "    --tile-height TILE_HEIGHT\n",
    "```\n",
    "\n",
    "Selection of important options:\n",
    "```bash\n",
    "Operation\n",
    "--compression=VipsForeignTiffCompression     Compression for this file (Options are: none, jpeg, deflate, packbits, ccittfax4, lzw, webp, zstd, jp2k)\n",
    "-Q, --Q=gint                                 Q factor (Value between 0 and 100)\n",
    "--tile-width=gint                            Tile width in pixels\n",
    "--tile-height=gint                           Tile height in pixels\n",
    "--pyramid                                    Write a pyramidal tiff\n",
    "--properties                                 Write a properties document to IMAGEDESCRIPTION\n",
    "-d, --depth=VipsForeignDzDepth               Pyramid depth\n",
    "\n",
    "VIPS Application Options\n",
    "--vips-concurrency=N                         evaluate with N concurrent threads\n",
    "--vips-progress                              show progress feedback\n",
    "--vips-cache-max=N                           cache at most N operations\n",
    "--vips-cache-max-memory=N                    cache at most N bytes in memory\n",
    "--vips-cache-max-files=N                     allow at most N open files\n",
    "```"
   ]
  },
  {
   "cell_type": "markdown",
   "metadata": {},
   "source": [
    "## Test VIPS for 3D Histech Setup"
   ]
  },
  {
   "cell_type": "code",
   "execution_count": 1,
   "metadata": {},
   "outputs": [],
   "source": [
    "# imports\n",
    "from pathlib import Path\n",
    "\n",
    "# Define Filepath\n",
    "input_file = \"./input_files/3DHistech/Testscans-Fabian/E445_24-1A.1_Big_Jpeg_enhanced/E445_24-1A.1_Wholeslide_EnhancedColors_Extended.tif\"\n",
    "output_folder = \"./output_files/VIPS\"\n",
    "\n",
    "# Define Output Path\n",
    "input_file_path_obj = Path(input_file)\n",
    "output_folder = Path(output_folder)\n",
    "\n",
    "output_file = output_folder / input_file_path_obj.parent.name / f\"{input_file_path_obj.stem}_vips.tif\"\n",
    "output_file.parent.mkdir(exist_ok=True, parents=True)\n",
    "output_file = output_file.resolve()"
   ]
  },
  {
   "cell_type": "code",
   "execution_count": null,
   "metadata": {},
   "outputs": [],
   "source": [
    "# tile size test: 256, 512, 1024\n",
    "# compression: none, jpeg, jp2k\n",
    "# quality: 100, 95, 90, 80\n",
    " "
   ]
  },
  {
   "cell_type": "code",
   "execution_count": 5,
   "metadata": {},
   "outputs": [
    {
     "name": "stdout",
     "output_type": "stream",
     "text": [
      "\n",
      "(vips:827): VIPS-\u001b[1;33mWARNING\u001b[0m **: \u001b[34m14:06:53.759\u001b[0m: Auto-corrected former TIFF subsampling values [2,2] to match subsampling values inside JPEG compressed data [2,1]\n",
      "\n",
      "(vips:827): VIPS-\u001b[1;33mWARNING\u001b[0m **: \u001b[34m14:06:53.766\u001b[0m: Auto-corrected former TIFF subsampling values [2,2] to match subsampling values inside JPEG compressed data [2,1]\n",
      "\n",
      "(vips:827): VIPS-\u001b[1;33mWARNING\u001b[0m **: \u001b[34m14:06:53.771\u001b[0m: Auto-corrected former TIFF subsampling values [2,2] to match subsampling values inside JPEG compressed data [2,1]\n",
      "\n",
      "(vips:827): VIPS-\u001b[1;33mWARNING\u001b[0m **: \u001b[34m14:06:53.775\u001b[0m: Auto-corrected former TIFF subsampling values [2,2] to match subsampling values inside JPEG compressed data [2,1]\n",
      "\n",
      "(vips:827): VIPS-\u001b[1;33mWARNING\u001b[0m **: \u001b[34m14:06:53.779\u001b[0m: Auto-corrected former TIFF subsampling values [2,2] to match subsampling values inside JPEG compressed data [2,1]\n",
      "vips ./input_files/3DHistech/Testscans-Fabian/E445_24-1A.1_Big_Jpeg_enhanced/E445_24-1A.1_Wholeslide_EnhancedColors_Extended.tif: 67072 x 149760 pixels, 4 threads, 67072 x 1 tiles, 128 lines in buffer\n",
      "\n",
      "(vips:827): VIPS-\u001b[1;33mWARNING\u001b[0m **: \u001b[34m14:06:53.796\u001b[0m: Auto-corrected former TIFF subsampling values [2,2] to match subsampling values inside JPEG compressed data [2,1]\n",
      "\n",
      "(vips:827): VIPS-\u001b[1;33mWARNING\u001b[0m **: \u001b[34m14:06:53.799\u001b[0m: Auto-corrected former TIFF subsampling values [2,2] to match subsampling values inside JPEG compressed data [2,1]\n",
      "\n",
      "(vips:827): VIPS-\u001b[1;33mWARNING\u001b[0m **: \u001b[34m14:06:53.800\u001b[0m: Auto-corrected former TIFF subsampling values [2,2] to match subsampling values inside JPEG compressed data [2,1]\n",
      "vips ./input_files/3DHistech/Testscans-Fabian/E445_24-1A.1_Big_Jpeg_enhanced/E445_24-1A.1_Wholeslide_EnhancedColors_Extended.tif: done in 430s          \n"
     ]
    }
   ],
   "source": [
    "!vips tiffsave $input_file $output_file \\\n",
    "    --pyramid \\\n",
    "    --tile \\\n",
    "    --tile-width 256 \\\n",
    "    --tile-height 256 \\\n",
    "    --vips-progress \\\n",
    "    --vips-concurrency=4 \\\n",
    "    --vips-cache-max-memory=8000000000"
   ]
  },
  {
   "cell_type": "code",
   "execution_count": null,
   "metadata": {},
   "outputs": [],
   "source": [
    "# todo: analyze runtime, analyze file size, analyze simple pathopatch"
   ]
  }
 ],
 "metadata": {
  "kernelspec": {
   "display_name": "Python 3 (ipykernel)",
   "language": "python",
   "name": "python3"
  },
  "language_info": {
   "codemirror_mode": {
    "name": "ipython",
    "version": 3
   },
   "file_extension": ".py",
   "mimetype": "text/x-python",
   "name": "python",
   "nbconvert_exporter": "python",
   "pygments_lexer": "ipython3",
   "version": "3.11.7"
  }
 },
 "nbformat": 4,
 "nbformat_minor": 4
}
