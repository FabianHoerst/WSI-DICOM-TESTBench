{
 "cells": [
  {
   "cell_type": "markdown",
   "metadata": {},
   "source": [
    "## VIPS Benchmarking for 3DHistech Tiff Files"
   ]
  },
  {
   "cell_type": "markdown",
   "metadata": {},
   "source": [
    "Command structure: \n",
    "\n",
    "```\n",
    "vips tiffsave input_file output_file.tif \\\n",
    "    --compression COMPRESSION \\\n",
    "    --Q QUALITY \\\n",
    "    --pyramid \\\n",
    "    --tile \\\n",
    "    --tile-width TILE_WIDTH \\\n",
    "    --tile-height TILE_HEIGHT\n",
    "```\n",
    "\n",
    "Selection of important options:\n",
    "```bash\n",
    "Operation\n",
    "--compression=VipsForeignTiffCompression     Compression for this file (Options are: none, jpeg, deflate, packbits, ccittfax4, lzw, webp, zstd, jp2k)\n",
    "-Q, --Q=gint                                 Q factor (Value between 0 and 100)\n",
    "--tile-width=gint                            Tile width in pixels\n",
    "--tile-height=gint                           Tile height in pixels\n",
    "--pyramid                                    Write a pyramidal tiff\n",
    "--properties                                 Write a properties document to IMAGEDESCRIPTION\n",
    "-d, --depth=VipsForeignDzDepth               Pyramid depth\n",
    "\n",
    "VIPS Application Options\n",
    "--vips-concurrency=N                         evaluate with N concurrent threads\n",
    "--vips-progress                              show progress feedback\n",
    "--vips-cache-max=N                           cache at most N operations\n",
    "--vips-cache-max-memory=N                    cache at most N bytes in memory\n",
    "--vips-cache-max-files=N                     allow at most N open files\n",
    "```"
   ]
  },
  {
   "cell_type": "markdown",
   "metadata": {},
   "source": [
    "## Test VIPS for 3D Histech Setup"
   ]
  },
  {
   "cell_type": "code",
   "execution_count": null,
   "metadata": {},
   "outputs": [],
   "source": [
    "# imports\n",
    "from pathlib import Path\n",
    "import time\n",
    "\n",
    "from openslide import OpenSlide\n",
    "import pandas as pd\n",
    "\n",
    "from utils.utils import get_file_size_in_mb, slide_info, remove_file\n",
    "\n",
    "# Define Filepath\n",
    "# input_file = \"./input_files/3DHistech/Testscans-Fabian/E445_24-1A.1_Big_Jpeg_enhanced/E445_24-1A.1_Wholeslide_EnhancedColors_Extended.tif\"\n",
    "input_file = \"./input_files/3DHistech/Testscans-Fabian/E445_24-1A.1_Big_Loss8_raw/E445_24-1A.1_Wholeslide_Default_Extended.tif\"\n",
    "output_folder = \"./output_files/VIPS\"\n",
    "\n",
    "# Define Output Path\n",
    "input_file_path_obj = Path(input_file)\n",
    "output_folder = Path(output_folder)\n",
    "\n",
    "output_file_dir = output_folder / input_file_path_obj.parent.name \n",
    "output_file_dir.mkdir(exist_ok=True, parents=True)"
   ]
  },
  {
   "cell_type": "code",
   "execution_count": null,
   "metadata": {},
   "outputs": [],
   "source": [
    "# options to test:\n",
    "# tile size test: 256, 512, 1024\n",
    "# compression: none, jpeg, jp2k\n",
    "# quality: 100, 95, 90, 80\n",
    "tile_size = 256\n",
    "quality = 98\n",
    "compression = \"jpeg\"\n",
    "\n",
    "output_file = (output_file_dir / f\"{input_file_path_obj.stem}_vips_{tile_size}_{quality}_{compression}.tif\").resolve()\n",
    "\n",
    "print(output_file)"
   ]
  },
  {
   "cell_type": "code",
   "execution_count": null,
   "metadata": {},
   "outputs": [],
   "source": [
    "%%time\n",
    "start_time = time.time()\n",
    "\n",
    "!vips tiffsave $input_file $output_file \\\n",
    "    --pyramid \\\n",
    "    --tile \\\n",
    "    --tile-width $tile_size \\\n",
    "    --tile-height $tile_size \\\n",
    "    --compression $compression \\\n",
    "    -Q $quality \\\n",
    "    --vips-progress \\\n",
    "    --vips-concurrency=8 \\\n",
    "    --vips-cache-max-memory=8000000000\n",
    "\n",
    "end_time = time.time()\n",
    "elapsed_time = end_time - start_time\n",
    "file_size = get_file_size_in_mb(output_file)\n",
    "\n",
    "try:\n",
    "    slide = OpenSlide(output_file)\n",
    "    # Successfully opened the file with OpenSlide\n",
    "    print(\"File opened successfully with OpenSlide.\")\n",
    "    # Additional code to work with the 'slide' object if needed\n",
    "except Exception as e:\n",
    "    # Other unexpected errors\n",
    "    print(f\"An unexpected error occurred: {str(e)}\")\n",
    "\n"
   ]
  },
  {
   "cell_type": "code",
   "execution_count": null,
   "metadata": {},
   "outputs": [],
   "source": [
    "# todo: analyze runtime, analyze file size, analyze simple pathopatch\n",
    "minutes, seconds = divmod(elapsed_time, 60)\n",
    "# todo: analyze runtime, analyze file size, analyze simple pathopatch\n",
    "minutes, seconds = divmod(elapsed_time, 60)\n",
    "print(f\"Runtime for creating file:    {int(minutes):02d}:{seconds:.2f}\")\n",
    "print(f\"Resulting file size:          {get_file_size_in_mb(output_file):.2f} MB\")\n"
   ]
  },
  {
   "cell_type": "code",
   "execution_count": null,
   "metadata": {},
   "outputs": [],
   "source": [
    "#slide = OpenSlide(output_file)\n",
    "slide = OpenSlide(\"/home/jovyan/work/output_files/VIPS/E445_24-1A.1_Big_Loss8_raw/E445_24-1A.1_Wholeslide_Default_Extended_vips_256_80_jp2k.tif\")\n",
    "slide_info(slide)"
   ]
  },
  {
   "cell_type": "markdown",
   "metadata": {},
   "source": [
    "## Test PathoPatcher Integration"
   ]
  },
  {
   "cell_type": "code",
   "execution_count": null,
   "metadata": {},
   "outputs": [],
   "source": [
    "!wsi_extraction --help"
   ]
  },
  {
   "cell_type": "markdown",
   "metadata": {},
   "source": [
    "```bash\n",
    "!wsi_extraction \\\n",
    "    --wsi_paths \"/home/jovyan/work/output_files/VIPS/E445_24-1A.1_Big_Loss8_raw/E445_24-1A.1_Wholeslide_Default_Extended_vips_256_95_jpeg.tif\" \\\n",
    "    --output_path \"/home/jovyan/work/output_files/VIPS/E445_24-1A.1_Big_Loss8_raw/PathoPatch_E445_24-1A.1_Wholeslide_Default_Extended_vips_256_95_jpeg\" \\\n",
    "    --wsi_extension \"tif\" \\\n",
    "    --patch_size 256 \\\n",
    "    --target_mag 10 \\\n",
    "    --overwrite \\\n",
    "    --processes 8 \\\n",
    "    --apply_prefilter \\\n",
    "    --wsi_magnification 40\n",
    "```"
   ]
  },
  {
   "cell_type": "code",
   "execution_count": null,
   "metadata": {},
   "outputs": [],
   "source": [
    "# very simple pathopatcher command to check if patches can be extracted\n",
    "#pathopatch_outdir = Path(output_file).parent / f\"PathoPatch_{Path(output_file.stem)}\"\n",
    "#pathopatch_outdir = pathopatch_outdir.resolve()\n",
    "\n",
    "!wsi_extraction \\\n",
    "    --wsi_paths \"/home/jovyan/work/output_files/VIPS/E445_24-1A.1_Big_Loss8_raw/E445_24-1A.1_Wholeslide_Default_Extended_vips_256_95_jpeg.tif\" \\\n",
    "    --output_path \"/home/jovyan/work/output_files/VIPS/E445_24-1A.1_Big_Loss8_raw/PathoPatch_E445_24-1A.1_Wholeslide_Default_Extended_vips_256_95_jpeg\" \\\n",
    "    --wsi_extension \"tif\" \\\n",
    "    --patch_size 1024 \\\n",
    "    --patch_overlap 6.25 \\\n",
    "    --min_intersection_ratio 0.05 \\\n",
    "    --target_mag 40 \\\n",
    "    --overwrite \\\n",
    "    --processes 8 \\\n",
    "    --apply_prefilter \\\n",
    "    --wsi_magnification 40"
   ]
  },
  {
   "cell_type": "code",
   "execution_count": null,
   "metadata": {},
   "outputs": [],
   "source": [
    "!echo $pathopatch_outdir"
   ]
  },
  {
   "cell_type": "markdown",
   "metadata": {},
   "source": [
    "### Remove files\n",
    "\n",
    "**1. Remove tiff**"
   ]
  },
  {
   "cell_type": "code",
   "execution_count": null,
   "metadata": {},
   "outputs": [],
   "source": [
    "user_input = input(f\"Do you want to remove the file: {output_file}? (y/n): \").lower()\n",
    "while user_input not in ['y', 'n']:\n",
    "    user_input = input(\"Invalid input. Please enter 'y' or 'n': \").lower()\n",
    "\n",
    "if user_input == 'y':\n",
    "    remove_file(output_file)\n",
    "else:\n",
    "    print(f\"Skipping removal of {output_file}\")"
   ]
  },
  {
   "cell_type": "markdown",
   "metadata": {},
   "source": [
    "**2. Remove PathoPatcher Output**"
   ]
  },
  {
   "cell_type": "code",
   "execution_count": null,
   "metadata": {},
   "outputs": [],
   "source": []
  },
  {
   "cell_type": "markdown",
   "metadata": {},
   "source": [
    "## Systematic Evaluation"
   ]
  },
  {
   "cell_type": "code",
   "execution_count": null,
   "metadata": {},
   "outputs": [],
   "source": [
    "\n",
    "# Function to save VIPS file and measure performance\n",
    "def save_and_measure_performance(input_file, output_file, tile_size, quality, compression):\n",
    "    # Start measuring time\n",
    "    start_time = time.time()\n",
    "\n",
    "    # VIPS command\n",
    "    vips_command = f\"vips tiffsave {input_file} {output_file} \\\n",
    "        --pyramid \\\n",
    "        --tile \\\n",
    "        --tile-width {tile_size} \\\n",
    "        --tile-height {tile_size} \\\n",
    "        --compression {compression} \\\n",
    "        -Q {quality} \\\n",
    "        --vips-progress \\\n",
    "        --vips-concurrency=4 \\\n",
    "        --vips-cache-max-memory=8000000000\"\n",
    "    \n",
    "    !{vips_command}\n",
    "\n",
    "    # Stop measuring time\n",
    "    end_time = time.time()\n",
    "    elapsed_time = end_time - start_time\n",
    "\n",
    "    # Get file size\n",
    "    file_size = get_file_size_in_mb(output_file)\n",
    "\n",
    "    # Try to open with OpenSlide\n",
    "    try:\n",
    "        slide = OpenSlide(output_file)\n",
    "        openslide_error = None\n",
    "    except Exception as e:\n",
    "        openslide_error = str(e)\n",
    "        \n",
    "    #remove_file(output_file)\n",
    "    \n",
    "    return {\n",
    "        'Tile Size': tile_size,\n",
    "        'Quality': quality,\n",
    "        'Compression': compression,\n",
    "        'Elapsed Time (s)': elapsed_time,\n",
    "        'File Size (MB)': file_size,\n",
    "        'OpenSlide Error': openslide_error\n",
    "    }\n"
   ]
  },
  {
   "cell_type": "code",
   "execution_count": null,
   "metadata": {},
   "outputs": [],
   "source": [
    "input_file = \"./input_files/3DHistech/Testscans-Fabian/E445_24-1A.1_Big_Loss8_raw/E445_24-1A.1_Wholeslide_Default_Extended.tif\"\n",
    "output_folder = \"./output_files/VIPS\"\n",
    "\n",
    "# Define Output Path\n",
    "input_file_path_obj = Path(input_file)\n",
    "output_folder = Path(output_folder)\n",
    "\n",
    "output_file_dir = output_folder / input_file_path_obj.parent.name \n",
    "output_file_dir.mkdir(exist_ok=True, parents=True)\n",
    "\n",
    "tile_sizes = [256]\n",
    "qualities = [100]#, 90, 95, 98, 100]\n",
    "compressions = [\"none\"]\n",
    "\n",
    "# Results table\n",
    "results = []\n",
    "\n",
    "# Loop through combinations\n",
    "for tile_size in tile_sizes:\n",
    "    for quality in qualities:\n",
    "        for compression in compressions:\n",
    "            output_file = (output_file_dir / f\"{input_file_path_obj.stem}_vips_{tile_size}_{quality}_{compression}.tif\").resolve()\n",
    "            result = save_and_measure_performance(input_file, output_file, tile_size, quality, compression)\n",
    "            results.append(result)\n",
    "\n",
    "# Create DataFrame\n",
    "results_df = pd.DataFrame(results)\n",
    "\n",
    "# Display the results table\n",
    "print(results_df)"
   ]
  },
  {
   "cell_type": "code",
   "execution_count": null,
   "metadata": {},
   "outputs": [],
   "source": []
  }
 ],
 "metadata": {
  "kernelspec": {
   "display_name": "Python 3 (ipykernel)",
   "language": "python",
   "name": "python3"
  },
  "language_info": {
   "codemirror_mode": {
    "name": "ipython",
    "version": 3
   },
   "file_extension": ".py",
   "mimetype": "text/x-python",
   "name": "python",
   "nbconvert_exporter": "python",
   "pygments_lexer": "ipython3",
   "version": "3.11.7"
  }
 },
 "nbformat": 4,
 "nbformat_minor": 4
}
