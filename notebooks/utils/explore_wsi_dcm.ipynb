{
 "cells": [
  {
   "cell_type": "code",
   "execution_count": 1,
   "metadata": {},
   "outputs": [],
   "source": [
    "import openslide as openslide\n",
    "from openslide.deepzoom import DeepZoomGenerator"
   ]
  },
  {
   "cell_type": "code",
   "execution_count": 12,
   "metadata": {},
   "outputs": [],
   "source": [
    "dicom_dir = \"\""
   ]
  },
  {
   "cell_type": "code",
   "execution_count": 13,
   "metadata": {},
   "outputs": [
    {
     "ename": "OpenSlideError",
     "evalue": "Reading /Users/fhoerst/Fabian-Projekte/DICOM-WSI/Konvertierung-Lukas/converted_data/converted_2/wsi-000013.dcm: Slide contains unexpected image (1.2.276.0.7230010.3.1.4.296485376.4027.1701337510.216094 vs. 1.2.276.0.7230010.3.1.4.296485376.4027.1701337485.216081)",
     "output_type": "error",
     "traceback": [
      "\u001b[0;31m---------------------------------------------------------------------------\u001b[0m",
      "\u001b[0;31mOpenSlideError\u001b[0m                            Traceback (most recent call last)",
      "\u001b[1;32m/Users/fhoerst/Fabian-Projekte/DICOM-WSI/explore_wsi_dcm.ipynb Zelle 3\u001b[0m line \u001b[0;36m1\n\u001b[0;32m----> <a href='vscode-notebook-cell:/Users/fhoerst/Fabian-Projekte/DICOM-WSI/explore_wsi_dcm.ipynb#W2sZmlsZQ%3D%3D?line=0'>1</a>\u001b[0m slide \u001b[39m=\u001b[39m openslide\u001b[39m.\u001b[39;49mOpenSlide(dicom_dir)\n",
      "File \u001b[0;32m/opt/anaconda3/envs/openslide4.0/lib/python3.10/site-packages/openslide/__init__.py:179\u001b[0m, in \u001b[0;36mOpenSlide.__init__\u001b[0;34m(self, filename)\u001b[0m\n\u001b[1;32m    177\u001b[0m AbstractSlide\u001b[39m.\u001b[39m\u001b[39m__init__\u001b[39m(\u001b[39mself\u001b[39m)\n\u001b[1;32m    178\u001b[0m \u001b[39mself\u001b[39m\u001b[39m.\u001b[39m_filename \u001b[39m=\u001b[39m filename\n\u001b[0;32m--> 179\u001b[0m \u001b[39mself\u001b[39m\u001b[39m.\u001b[39m_osr \u001b[39m=\u001b[39m lowlevel\u001b[39m.\u001b[39;49mopen(\u001b[39mstr\u001b[39;49m(filename))\n\u001b[1;32m    180\u001b[0m \u001b[39mif\u001b[39;00m lowlevel\u001b[39m.\u001b[39mread_icc_profile\u001b[39m.\u001b[39mavailable:\n\u001b[1;32m    181\u001b[0m     \u001b[39mself\u001b[39m\u001b[39m.\u001b[39m_profile \u001b[39m=\u001b[39m lowlevel\u001b[39m.\u001b[39mread_icc_profile(\u001b[39mself\u001b[39m\u001b[39m.\u001b[39m_osr)\n",
      "File \u001b[0;32m/opt/anaconda3/envs/openslide4.0/lib/python3.10/site-packages/openslide/lowlevel.py:207\u001b[0m, in \u001b[0;36m_check_open\u001b[0;34m(result, _func, _args)\u001b[0m\n\u001b[1;32m    205\u001b[0m err \u001b[39m=\u001b[39m get_error(slide)\n\u001b[1;32m    206\u001b[0m \u001b[39mif\u001b[39;00m err \u001b[39mis\u001b[39;00m \u001b[39mnot\u001b[39;00m \u001b[39mNone\u001b[39;00m:\n\u001b[0;32m--> 207\u001b[0m     \u001b[39mraise\u001b[39;00m OpenSlideError(err)\n\u001b[1;32m    208\u001b[0m \u001b[39mreturn\u001b[39;00m slide\n",
      "\u001b[0;31mOpenSlideError\u001b[0m: Reading /Users/fhoerst/Fabian-Projekte/DICOM-WSI/Konvertierung-Lukas/converted_data/converted_2/wsi-000013.dcm: Slide contains unexpected image (1.2.276.0.7230010.3.1.4.296485376.4027.1701337510.216094 vs. 1.2.276.0.7230010.3.1.4.296485376.4027.1701337485.216081)"
     ]
    }
   ],
   "source": [
    "slide = openslide.OpenSlide(dicom_dir)"
   ]
  },
  {
   "cell_type": "code",
   "execution_count": 7,
   "metadata": {},
   "outputs": [],
   "source": [
    "slide_dz = DeepZoomGenerator(\n",
    "    slide\n",
    ")\n",
    "slide_dz.level_count\n",
    "slide.level_count"
   ]
  },
  {
   "cell_type": "code",
   "execution_count": 8,
   "metadata": {},
   "outputs": [
    {
     "data": {
      "text/plain": [
       "19"
      ]
     },
     "execution_count": 8,
     "metadata": {},
     "output_type": "execute_result"
    }
   ],
   "source": []
  },
  {
   "cell_type": "code",
   "execution_count": 9,
   "metadata": {},
   "outputs": [
    {
     "data": {
      "text/plain": [
       "4"
      ]
     },
     "execution_count": 9,
     "metadata": {},
     "output_type": "execute_result"
    }
   ],
   "source": []
  },
  {
   "cell_type": "code",
   "execution_count": 16,
   "metadata": {},
   "outputs": [],
   "source": [
    "from pydicom import dcmread\n",
    "from pydicom.encaps import decode_data_sequence"
   ]
  },
  {
   "cell_type": "code",
   "execution_count": 2,
   "metadata": {},
   "outputs": [],
   "source": [
    "ds = dcmread(\"/Users/fhoerst/Fabian-Projekte/DICOM-WSI/Konvertierung-Lukas/converted_data/converted_2/wsi-000013.dcm\")\n",
    "ds"
   ]
  },
  {
   "cell_type": "code",
   "execution_count": 19,
   "metadata": {},
   "outputs": [],
   "source": [
    "px = ds.PixelData\n",
    "px_decoded = decode_data_sequence(px) "
   ]
  },
  {
   "cell_type": "code",
   "execution_count": null,
   "metadata": {},
   "outputs": [],
   "source": []
  }
 ],
 "metadata": {
  "kernelspec": {
   "display_name": "dicom",
   "language": "python",
   "name": "python3"
  },
  "language_info": {
   "codemirror_mode": {
    "name": "ipython",
    "version": 3
   },
   "file_extension": ".py",
   "mimetype": "text/x-python",
   "name": "python",
   "nbconvert_exporter": "python",
   "pygments_lexer": "ipython3",
   "version": "3.10.12"
  },
  "orig_nbformat": 4
 },
 "nbformat": 4,
 "nbformat_minor": 2
}
