{
 "cells": [
  {
   "cell_type": "markdown",
   "metadata": {},
   "source": [
    "## VIPS Benchmarking for 3DHistech Tiff Files"
   ]
  },
  {
   "cell_type": "markdown",
   "metadata": {},
   "source": [
    "Command structure: \n",
    "\n",
    "```\n",
    "vips tiffsave input_file output_file.tif \\\n",
    "    --compression COMPRESSION \\\n",
    "    --Q QUALITY \\\n",
    "    --pyramid \\\n",
    "    --tile \\\n",
    "    --tile-width TILE_WIDTH \\\n",
    "    --tile-height TILE_HEIGHT\n",
    "```\n",
    "\n",
    "Selection of important options:\n",
    "```bash\n",
    "Operation\n",
    "--compression=VipsForeignTiffCompression     Compression for this file (Options are: none, jpeg, deflate, packbits, ccittfax4, lzw, webp, zstd, jp2k)\n",
    "-Q, --Q=gint                                 Q factor (Value between 0 and 100)\n",
    "--tile-width=gint                            Tile width in pixels\n",
    "--tile-height=gint                           Tile height in pixels\n",
    "--pyramid                                    Write a pyramidal tiff\n",
    "--properties                                 Write a properties document to IMAGEDESCRIPTION\n",
    "-d, --depth=VipsForeignDzDepth               Pyramid depth\n",
    "\n",
    "VIPS Application Options\n",
    "--vips-concurrency=N                         evaluate with N concurrent threads\n",
    "--vips-progress                              show progress feedback\n",
    "--vips-cache-max=N                           cache at most N operations\n",
    "--vips-cache-max-memory=N                    cache at most N bytes in memory\n",
    "--vips-cache-max-files=N                     allow at most N open files\n",
    "```"
   ]
  },
  {
   "cell_type": "markdown",
   "metadata": {},
   "source": [
    "## Test VIPS for 3D Histech Setup"
   ]
  },
  {
   "cell_type": "code",
   "execution_count": 7,
   "metadata": {},
   "outputs": [],
   "source": [
    "# imports\n",
    "from pathlib import Path\n",
    "import time\n",
    "\n",
    "from openslide import OpenSlide\n",
    "import pandas as pd\n",
    "\n",
    "from utils.utils import get_file_size_in_mb, slide_info, remove_file\n",
    "\n",
    "# Define Filepath\n",
    "# input_file = \"./input_files/3DHistech/Testscans-Fabian/E445_24-1A.1_Big_Jpeg_enhanced/E445_24-1A.1_Wholeslide_EnhancedColors_Extended.tif\"\n",
    "input_file = \"./input_files/3DHistech/Testscans-Fabian/E445_24-1A.1_Big_Loss8_raw/E445_24-1A.1_Wholeslide_Default_Extended.tif\"\n",
    "output_folder = \"./output_files/VIPS\"\n",
    "\n",
    "# Define Output Path\n",
    "input_file_path_obj = Path(input_file)\n",
    "output_folder = Path(output_folder)\n",
    "\n",
    "output_file_dir = output_folder / input_file_path_obj.parent.name \n",
    "output_file_dir.mkdir(exist_ok=True, parents=True)"
   ]
  },
  {
   "cell_type": "code",
   "execution_count": 51,
   "metadata": {},
   "outputs": [
    {
     "name": "stdout",
     "output_type": "stream",
     "text": [
      "/home/jovyan/work/output_files/VIPS/E445_24-1A.1_Big_Loss8_raw/E445_24-1A.1_Wholeslide_Default_Extended_vips_256_98_jpeg.tif\n"
     ]
    }
   ],
   "source": [
    "# options to test:\n",
    "# tile size test: 256, 512, 1024\n",
    "# compression: none, jpeg, jp2k\n",
    "# quality: 100, 95, 90, 80\n",
    "tile_size = 256\n",
    "quality = 98\n",
    "compression = \"jpeg\"\n",
    "\n",
    "output_file = (output_file_dir / f\"{input_file_path_obj.stem}_vips_{tile_size}_{quality}_{compression}.tif\").resolve()\n",
    "\n",
    "print(output_file)"
   ]
  },
  {
   "cell_type": "code",
   "execution_count": 52,
   "metadata": {},
   "outputs": [
    {
     "name": "stdout",
     "output_type": "stream",
     "text": [
      "vips temp-1: 67072 x 149760 pixels, 8 threads, 67072 x 1 tiles, 256 lines in buffer\n",
      "vips temp-1: done in 291s          \n",
      "File opened successfully with OpenSlide.\n",
      "CPU times: user 5.26 s, sys: 1.83 s, total: 7.08 s\n",
      "Wall time: 4min 52s\n"
     ]
    }
   ],
   "source": [
    "%%time\n",
    "start_time = time.time()\n",
    "\n",
    "!vips tiffsave $input_file $output_file \\\n",
    "    --pyramid \\\n",
    "    --tile \\\n",
    "    --tile-width $tile_size \\\n",
    "    --tile-height $tile_size \\\n",
    "    --compression $compression \\\n",
    "    -Q $quality \\\n",
    "    --vips-progress \\\n",
    "    --vips-concurrency=8 \\\n",
    "    --vips-cache-max-memory=8000000000\n",
    "\n",
    "end_time = time.time()\n",
    "elapsed_time = end_time - start_time\n",
    "file_size = get_file_size_in_mb(output_file)\n",
    "\n",
    "try:\n",
    "    slide = OpenSlide(output_file)\n",
    "    # Successfully opened the file with OpenSlide\n",
    "    print(\"File opened successfully with OpenSlide.\")\n",
    "    # Additional code to work with the 'slide' object if needed\n",
    "except Exception as e:\n",
    "    # Other unexpected errors\n",
    "    print(f\"An unexpected error occurred: {str(e)}\")\n",
    "\n"
   ]
  },
  {
   "cell_type": "code",
   "execution_count": 53,
   "metadata": {},
   "outputs": [
    {
     "name": "stdout",
     "output_type": "stream",
     "text": [
      "Runtime for creating file:    04:52.21\n",
      "Resulting file size:          2867.02 MB\n"
     ]
    }
   ],
   "source": [
    "# todo: analyze runtime, analyze file size, analyze simple pathopatch\n",
    "minutes, seconds = divmod(elapsed_time, 60)\n",
    "# todo: analyze runtime, analyze file size, analyze simple pathopatch\n",
    "minutes, seconds = divmod(elapsed_time, 60)\n",
    "print(f\"Runtime for creating file:    {int(minutes):02d}:{seconds:.2f}\")\n",
    "print(f\"Resulting file size:          {get_file_size_in_mb(output_file):.2f} MB\")\n"
   ]
  },
  {
   "cell_type": "code",
   "execution_count": 21,
   "metadata": {},
   "outputs": [
    {
     "ename": "OpenSlideError",
     "evalue": "Unsupported TIFF compression: 33004",
     "output_type": "error",
     "traceback": [
      "\u001b[0;31m---------------------------------------------------------------------------\u001b[0m",
      "\u001b[0;31mOpenSlideError\u001b[0m                            Traceback (most recent call last)",
      "Cell \u001b[0;32mIn[21], line 2\u001b[0m\n\u001b[1;32m      1\u001b[0m \u001b[38;5;66;03m#slide = OpenSlide(output_file)\u001b[39;00m\n\u001b[0;32m----> 2\u001b[0m slide \u001b[38;5;241m=\u001b[39m \u001b[43mOpenSlide\u001b[49m\u001b[43m(\u001b[49m\u001b[38;5;124;43m\"\u001b[39;49m\u001b[38;5;124;43m/home/jovyan/work/output_files/VIPS/E445_24-1A.1_Big_Loss8_raw/E445_24-1A.1_Wholeslide_Default_Extended_vips_256_80_jp2k.tif\u001b[39;49m\u001b[38;5;124;43m\"\u001b[39;49m\u001b[43m)\u001b[49m\n\u001b[1;32m      3\u001b[0m slide_info(slide)\n",
      "File \u001b[0;32m/opt/conda/lib/python3.11/site-packages/openslide/__init__.py:179\u001b[0m, in \u001b[0;36mOpenSlide.__init__\u001b[0;34m(self, filename)\u001b[0m\n\u001b[1;32m    177\u001b[0m AbstractSlide\u001b[38;5;241m.\u001b[39m\u001b[38;5;21m__init__\u001b[39m(\u001b[38;5;28mself\u001b[39m)\n\u001b[1;32m    178\u001b[0m \u001b[38;5;28mself\u001b[39m\u001b[38;5;241m.\u001b[39m_filename \u001b[38;5;241m=\u001b[39m filename\n\u001b[0;32m--> 179\u001b[0m \u001b[38;5;28mself\u001b[39m\u001b[38;5;241m.\u001b[39m_osr \u001b[38;5;241m=\u001b[39m \u001b[43mlowlevel\u001b[49m\u001b[38;5;241;43m.\u001b[39;49m\u001b[43mopen\u001b[49m\u001b[43m(\u001b[49m\u001b[38;5;28;43mstr\u001b[39;49m\u001b[43m(\u001b[49m\u001b[43mfilename\u001b[49m\u001b[43m)\u001b[49m\u001b[43m)\u001b[49m\n\u001b[1;32m    180\u001b[0m \u001b[38;5;28;01mif\u001b[39;00m lowlevel\u001b[38;5;241m.\u001b[39mread_icc_profile\u001b[38;5;241m.\u001b[39mavailable:\n\u001b[1;32m    181\u001b[0m     \u001b[38;5;28mself\u001b[39m\u001b[38;5;241m.\u001b[39m_profile \u001b[38;5;241m=\u001b[39m lowlevel\u001b[38;5;241m.\u001b[39mread_icc_profile(\u001b[38;5;28mself\u001b[39m\u001b[38;5;241m.\u001b[39m_osr)\n",
      "File \u001b[0;32m/opt/conda/lib/python3.11/site-packages/openslide/lowlevel.py:207\u001b[0m, in \u001b[0;36m_check_open\u001b[0;34m(result, _func, _args)\u001b[0m\n\u001b[1;32m    205\u001b[0m err \u001b[38;5;241m=\u001b[39m get_error(slide)\n\u001b[1;32m    206\u001b[0m \u001b[38;5;28;01mif\u001b[39;00m err \u001b[38;5;129;01mis\u001b[39;00m \u001b[38;5;129;01mnot\u001b[39;00m \u001b[38;5;28;01mNone\u001b[39;00m:\n\u001b[0;32m--> 207\u001b[0m     \u001b[38;5;28;01mraise\u001b[39;00m OpenSlideError(err)\n\u001b[1;32m    208\u001b[0m \u001b[38;5;28;01mreturn\u001b[39;00m slide\n",
      "\u001b[0;31mOpenSlideError\u001b[0m: Unsupported TIFF compression: 33004"
     ]
    }
   ],
   "source": [
    "#slide = OpenSlide(output_file)\n",
    "slide = OpenSlide(\"/home/jovyan/work/output_files/VIPS/E445_24-1A.1_Big_Loss8_raw/E445_24-1A.1_Wholeslide_Default_Extended_vips_256_80_jp2k.tif\")\n",
    "slide_info(slide)"
   ]
  },
  {
   "cell_type": "markdown",
   "metadata": {},
   "source": [
    "## Test PathoPatcher Integration"
   ]
  },
  {
   "cell_type": "code",
   "execution_count": 1,
   "metadata": {},
   "outputs": [
    {
     "name": "stdout",
     "output_type": "stream",
     "text": [
      "usage: wsi_extraction [-h] [--wsi_paths WSI_PATHS]\n",
      "                      [--wsi_filelist WSI_FILELIST]\n",
      "                      [--output_path OUTPUT_PATH]\n",
      "                      [--wsi_extension {svs,tiff,tif,bif,scn,ndpi,vms,vmu}]\n",
      "                      [--config CONFIG] [--patch_size PATCH_SIZE]\n",
      "                      [--patch_overlap PATCH_OVERLAP]\n",
      "                      [--target_mpp TARGET_MPP] [--target_mag TARGET_MAG]\n",
      "                      [--downsample DOWNSAMPLE] [--level LEVEL]\n",
      "                      [--context_scales [CONTEXT_SCALES ...]]\n",
      "                      [--check_resolution CHECK_RESOLUTION]\n",
      "                      [--processes PROCESSES] [--overwrite]\n",
      "                      [--annotation_paths ANNOTATION_PATHS]\n",
      "                      [--annotation_extension {json}]\n",
      "                      [--incomplete_annotations]\n",
      "                      [--label_map_file LABEL_MAP_FILE]\n",
      "                      [--save_only_annotated_patches]\n",
      "                      [--save_context_without_mask]\n",
      "                      [--exclude_classes EXCLUDE_CLASSES] [--store_masks]\n",
      "                      [--overlapping_labels] [--normalize_stains]\n",
      "                      [--normalization_vector_json NORMALIZATION_VECTOR_JSON]\n",
      "                      [--adjust_brightness]\n",
      "                      [--min_intersection_ratio MIN_INTERSECTION_RATIO]\n",
      "                      [--tissue_annotation TISSUE_ANNOTATION]\n",
      "                      [--tissue_annotation_intersection_ratio TISSUE_ANNOTATION_INTERSECTION_RATIO]\n",
      "                      [--masked_otsu] [--otsu_annotation OTSU_ANNOTATION]\n",
      "                      [--filter_patches] [--apply_prefilter]\n",
      "                      [--log_path LOG_PATH]\n",
      "                      [--log_level {critical,error,warning,info,debug}]\n",
      "                      [--hardware_selection {cucim,openslide}]\n",
      "                      [--wsi_magnification WSI_MAGNIFICATION]\n",
      "                      [--wsi_mpp WSI_MPP]\n",
      "\n",
      "options:\n",
      "  -h, --help            show this help message and exit\n",
      "  --wsi_paths WSI_PATHS\n",
      "                        Path to the folder where all WSI are stored or path to\n",
      "                        a single WSI-file. (default: None)\n",
      "  --wsi_filelist WSI_FILELIST\n",
      "                        Path to a csv-filelist with WSI files (separator:\n",
      "                        `,`), if provided just these files are used.Must\n",
      "                        include full paths to WSIs, including suffixes.Can be\n",
      "                        used as an replacement for the wsi_paths option.If\n",
      "                        both are provided, yields an error. (default: None)\n",
      "  --output_path OUTPUT_PATH\n",
      "                        Path to the folder where the resulting dataset should\n",
      "                        be stored. (default: None)\n",
      "  --wsi_extension {svs,tiff,tif,bif,scn,ndpi,vms,vmu}\n",
      "                        The extension types used for the WSI files, the\n",
      "                        options are: ['svs', 'tiff', 'tif', 'bif', 'scn',\n",
      "                        'ndpi', 'vms', 'vmu'] (default: None)\n",
      "  --config CONFIG       Path to a config file. The config file can hold the\n",
      "                        same parameters as the CLI. Parameters provided with\n",
      "                        the CLI are always having precedence over the\n",
      "                        parameters in the config file. (default: None)\n",
      "  --patch_size PATCH_SIZE\n",
      "                        The size of the patches in pixel that will be\n",
      "                        retrieved from the WSI, e.g. 256 for 256px (default:\n",
      "                        None)\n",
      "  --patch_overlap PATCH_OVERLAP\n",
      "                        The percentage amount pixels that should overlap\n",
      "                        between two different patches. Please Provide as\n",
      "                        integer between 0 and 100, indicating overlap in\n",
      "                        percentage. (default: None)\n",
      "  --target_mpp TARGET_MPP\n",
      "                        If this parameter is provided, the output level of the\n",
      "                        WSI corresponds to the level that is at the target\n",
      "                        microns per pixel of the WSI. Alternative to\n",
      "                        target_mag, downsaple and level. Highest priority,\n",
      "                        overwrites all other setups for magnifcation,\n",
      "                        downsample, or level. (default: None)\n",
      "  --target_mag TARGET_MAG\n",
      "                        If this parameter is provided, the output level of the\n",
      "                        WSI corresponds to the level that is at the target\n",
      "                        magnification of the WSI. Alternative to target_mpp,\n",
      "                        downsaple and level. High priority, just target_mpp\n",
      "                        has a higher priority, overwrites downsample and level\n",
      "                        if provided. (default: None)\n",
      "  --downsample DOWNSAMPLE\n",
      "                        Each WSI level is downsampled by a factor of 2,\n",
      "                        downsample expresses which kind of downsampling should\n",
      "                        be used with respect to the highest possible\n",
      "                        resolution. Medium priority, gets overwritten by\n",
      "                        target_mag and target_mpp if provided, but overwrites\n",
      "                        level. (default: None)\n",
      "  --level LEVEL         The tile level for sampling, alternative to\n",
      "                        downsample. Lowest priority, gets overwritten by\n",
      "                        target_mag and downsample if they are provided.\n",
      "                        (default: None)\n",
      "  --context_scales [CONTEXT_SCALES ...]\n",
      "                        Define context scales for context patches. Context\n",
      "                        patches are centered around a central patch. The\n",
      "                        context-patch size is equal to the patch-size, but\n",
      "                        downsampling is different (default: None)\n",
      "  --check_resolution CHECK_RESOLUTION\n",
      "                        If a float value is supplies, the program checks\n",
      "                        whether the resolution of all images corresponds to\n",
      "                        the given value (default: None)\n",
      "  --processes PROCESSES\n",
      "                        The number of processes to use. (default: None)\n",
      "  --overwrite           Overwrite the patches that have already been created\n",
      "                        in case they already exist. Removes dataset. Handle\n",
      "                        with care! (default: None)\n",
      "  --annotation_paths ANNOTATION_PATHS\n",
      "                        Path to the subfolder where the XML/JSON annotations\n",
      "                        are stored or path to a file (default: None)\n",
      "  --annotation_extension {json}\n",
      "                        The extension types used for the annotation files, the\n",
      "                        options are: ['json'] (default: None)\n",
      "  --incomplete_annotations\n",
      "                        Set to allow WSI without annotation file (default:\n",
      "                        None)\n",
      "  --label_map_file LABEL_MAP_FILE\n",
      "                        The path to a json file that contains the mapping\n",
      "                        between the annotation labels and some integers; an\n",
      "                        example can be found in examples (default: None)\n",
      "  --save_only_annotated_patches\n",
      "                        If true only patches containing annotations will be\n",
      "                        stored (default: None)\n",
      "  --save_context_without_mask\n",
      "                        This is helpful for extracting patches, that are not\n",
      "                        within a mask, but needed for the Valuing Vicinity\n",
      "                        Segmentation Algorithms. This flag is specifically\n",
      "                        helpful if only fully annotated patches should be\n",
      "                        extracted from a region of interest (ROI) and their\n",
      "                        masks are stored, but also sourrounding neighbourhood\n",
      "                        patches (without mask) are needed. (default: None)\n",
      "  --exclude_classes EXCLUDE_CLASSES\n",
      "                        Can be used to exclude annotation classes (default:\n",
      "                        None)\n",
      "  --store_masks         Set to store masks per patch. Defaults to false\n",
      "                        (default: None)\n",
      "  --overlapping_labels  Per default, labels (annotations) are mutually\n",
      "                        exclusive. If labels overlap, they are overwritten\n",
      "                        according to the label_map.json ordering (highest\n",
      "                        number = highest priority) (default: None)\n",
      "  --normalize_stains    Uses Macenko normalization on a portion of the whole\n",
      "                        slide image (default: None)\n",
      "  --normalization_vector_json NORMALIZATION_VECTOR_JSON\n",
      "                        The path to a JSON file where the normalization\n",
      "                        vectors are stored (default: None)\n",
      "  --adjust_brightness   Normalize brightness in a batch by clipping to 90\n",
      "                        percent. Not recommended, but kept for legacy reasons\n",
      "                        (default: None)\n",
      "  --min_intersection_ratio MIN_INTERSECTION_RATIO\n",
      "                        The minimum intersection between the tissue mask and\n",
      "                        the patch. Must be between 0 and 1. 0 means that all\n",
      "                        patches are extracted. (default: None)\n",
      "  --tissue_annotation TISSUE_ANNOTATION\n",
      "                        Can be used to name a polygon annotation to determine\n",
      "                        the tissue area. If a tissue annotation is provided,\n",
      "                        no Otsu-thresholding is performed (default: None)\n",
      "  --tissue_annotation_intersection_ratio TISSUE_ANNOTATION_INTERSECTION_RATIO\n",
      "                        Intersection ratio with tissue annotation. Helpful, if\n",
      "                        ROI annotation is passed, which should not interfere\n",
      "                        with background ratio. If not provided, the default\n",
      "                        min_intersection_ratio with the background is used.\n",
      "                        (default: None)\n",
      "  --masked_otsu         Use annotation to mask the thumbnail before otsu-\n",
      "                        thresholding is used (default: None)\n",
      "  --otsu_annotation OTSU_ANNOTATION\n",
      "                        Can be used to name a polygon annotation to determine\n",
      "                        the area for masked otsu thresholding. Seperate\n",
      "                        multiple labels with ' ' (whitespace) (default: None)\n",
      "  --filter_patches      Post-extraction patch filtering to sort out artefacts,\n",
      "                        marker and other non-tissue patches with a DL model.\n",
      "                        Time consuming. Defaults to False. (default: None)\n",
      "  --apply_prefilter     Pre-extraction mask filtering to remove marker from\n",
      "                        mask before applying otsu. Defaults to False.\n",
      "                        (default: None)\n",
      "  --log_path LOG_PATH   Path where log files should be stored. Otherwise, log\n",
      "                        files are stored in the output folder (default: None)\n",
      "  --log_level {critical,error,warning,info,debug}\n",
      "                        Set the logging level. Options are ['critical',\n",
      "                        'error', 'warning', 'info', 'debug'] (default: None)\n",
      "  --hardware_selection {cucim,openslide}\n",
      "                        Select hardware device (just if available, otherwise\n",
      "                        always cucim). Defaults to cucim. (default: None)\n",
      "  --wsi_magnification WSI_MAGNIFICATION\n",
      "                        Manual WSI magnification, but just applies if metadata\n",
      "                        cannot be derived from OpenSlide (e.g., for .tiff\n",
      "                        files). (default: None)\n",
      "  --wsi_mpp WSI_MPP     Manual WSI MPP, but just applies if metadata cannot be\n",
      "                        derived from OpenSlide (e.g., for .tiff files).\n",
      "                        (default: None)\n",
      "\u001b[0m\u001b[0m"
     ]
    }
   ],
   "source": [
    "!wsi_extraction --help"
   ]
  },
  {
   "cell_type": "markdown",
   "metadata": {},
   "source": [
    "```bash\n",
    "!wsi_extraction \\\n",
    "    --wsi_paths \"/home/jovyan/work/output_files/VIPS/E445_24-1A.1_Big_Loss8_raw/E445_24-1A.1_Wholeslide_Default_Extended_vips_256_95_jpeg.tif\" \\\n",
    "    --output_path \"/home/jovyan/work/output_files/VIPS/E445_24-1A.1_Big_Loss8_raw/PathoPatch_E445_24-1A.1_Wholeslide_Default_Extended_vips_256_95_jpeg\" \\\n",
    "    --wsi_extension \"tif\" \\\n",
    "    --patch_size 256 \\\n",
    "    --target_mag 10 \\\n",
    "    --overwrite \\\n",
    "    --processes 8 \\\n",
    "    --apply_prefilter \\\n",
    "    --wsi_magnification 40\n",
    "```"
   ]
  },
  {
   "cell_type": "code",
   "execution_count": 5,
   "metadata": {},
   "outputs": [
    {
     "name": "stdout",
     "output_type": "stream",
     "text": [
      "\u001b[37m2024-01-19 10:11:30,521 [INFO] - Using OpenSlide\n",
      "\u001b[0m\u001b[37m2024-01-19 10:11:30,523 [INFO] - Data store directory: /home/jovyan/work/output_files/VIPS/E445_24-1A.1_Big_Loss8_raw/PathoPatch_E445_24-1A.1_Wholeslide_Default_Extended_vips_256_95_jpeg\n",
      "\u001b[0m\u001b[37m2024-01-19 10:11:30,524 [INFO] - Images found: 1\n",
      "\u001b[0m\u001b[37m2024-01-19 10:11:30,525 [INFO] - Annotations found: 0\n",
      "\u001b[0m\u001b[37m2024-01-19 10:11:30,526 [INFO] - Removing complete dataset! This may take a while.\n",
      "\u001b[0m\u001b[37m2024-01-19 10:11:33,021 [INFO] - ***********************************************\n",
      "\u001b[0m\u001b[37m2024-01-19 10:11:33,022 [INFO] - 1/1: E445_24-1A.1_Wholeslide_Default_Extended_vips_256_95_jpeg.tif\n",
      "\u001b[0m\u001b[37m2024-01-19 10:11:33,023 [INFO] - Computing patches for E445_24-1A.1_Wholeslide_Default_Extended_vips_256_95_jpeg.tif\n",
      "\u001b[0m\u001b[37m2024-01-19 10:11:33,202 [INFO] - Generate thumbnails\n",
      "\u001b[0m\u001b[93m2024-01-19 10:11:42,984 [WARNING] - The given setting results in the following specifications for background detection: downsampling-patch-size=15.0, downsampling-overlap: 0.5 This could cause a slight shift between the background detection grid and the actual patches extracted. Grid is interpolated and rearranged, but side effects are possible.\n",
      "\u001b[0m\u001b[37m2024-01-19 10:11:43,251 [INFO] - E445_24-1A.1_Wholeslide_Default_Extended_vips_256_95_jpeg.tif: Processing 502 patches.\n",
      "\u001b[0m\u001b[37m2024-01-19 10:11:55,983 [INFO] - Start extracting patches...\n",
      "Retrieving patches: 100%|█████████████████████| 502/502 [02:02<00:00,  4.09it/s]\u001b[0m\u001b[0m\u001b[0m\u001b[0m\u001b[0m\u001b[0m\u001b[0m\u001b[0m\u001b[0m\u001b[0m\u001b[0m\u001b[0m\u001b[0m\u001b[0m\u001b[0m\u001b[0m\u001b[0m\u001b[0m\u001b[0m\u001b[0m\u001b[0m\u001b[0m\u001b[0m\u001b[0m\u001b[0m\u001b[0m\u001b[0m\u001b[0m\u001b[0m\u001b[0m\u001b[0m\u001b[0m\n",
      "\u001b[37m2024-01-19 10:14:00,183 [INFO] - Finished Processing and Storing. Took:\n",
      "\u001b[0m\u001b[37m2024-01-19 10:14:00,189 [INFO] - Time usage: 0:02:03.592289\n",
      "\u001b[0m\u001b[37m2024-01-19 10:14:00,193 [INFO] - Total patches sampled: 502\n",
      "\u001b[0m\u001b[37m2024-01-19 10:14:00,495 [INFO] - Patches saved to: /home/jovyan/work/output_files/VIPS/E445_24-1A.1_Big_Loss8_raw/PathoPatch_E445_24-1A.1_Wholeslide_Default_Extended_vips_256_95_jpeg\n",
      "\u001b[0m\u001b[37m2024-01-19 10:14:00,496 [INFO] - Total patches sampled for all WSI: 502\n",
      "\u001b[0m\u001b[37m2024-01-19 10:14:00,499 [INFO] - Time usage: 0:02:27.477715\n",
      "\u001b[0m\u001b[37m2024-01-19 10:14:00,533 [INFO] - Finished Preprocessing.\n",
      "\u001b[0m\u001b[0m\u001b[0m"
     ]
    }
   ],
   "source": [
    "# very simple pathopatcher command to check if patches can be extracted\n",
    "#pathopatch_outdir = Path(output_file).parent / f\"PathoPatch_{Path(output_file.stem)}\"\n",
    "#pathopatch_outdir = pathopatch_outdir.resolve()\n",
    "\n",
    "!wsi_extraction \\\n",
    "    --wsi_paths \"/home/jovyan/work/output_files/VIPS/E445_24-1A.1_Big_Loss8_raw/E445_24-1A.1_Wholeslide_Default_Extended_vips_256_95_jpeg.tif\" \\\n",
    "    --output_path \"/home/jovyan/work/output_files/VIPS/E445_24-1A.1_Big_Loss8_raw/PathoPatch_E445_24-1A.1_Wholeslide_Default_Extended_vips_256_95_jpeg\" \\\n",
    "    --wsi_extension \"tif\" \\\n",
    "    --patch_size 1024 \\\n",
    "    --patch_overlap 6.25 \\\n",
    "    --min_intersection_ratio 0.05 \\\n",
    "    --target_mag 40 \\\n",
    "    --overwrite \\\n",
    "    --processes 8 \\\n",
    "    --apply_prefilter \\\n",
    "    --wsi_magnification 40"
   ]
  },
  {
   "cell_type": "code",
   "execution_count": 47,
   "metadata": {},
   "outputs": [
    {
     "name": "stdout",
     "output_type": "stream",
     "text": [
      "/home/jovyan/work/output_files/VIPS/E445_24-1A.1_Big_Loss8_raw/PathoPatch_E445_24-1A.1_Wholeslide_Default_Extended_vips_256_95_jpeg\n"
     ]
    }
   ],
   "source": [
    "!echo $pathopatch_outdir"
   ]
  },
  {
   "cell_type": "markdown",
   "metadata": {},
   "source": [
    "### Remove files\n",
    "\n",
    "**1. Remove tiff**"
   ]
  },
  {
   "cell_type": "code",
   "execution_count": 7,
   "metadata": {},
   "outputs": [
    {
     "name": "stdin",
     "output_type": "stream",
     "text": [
      "Do you want to remove the file: /home/jovyan/work/output_files/VIPS/E445_24-1A.1_Big_Jpeg_enhanced/E445_24-1A.1_Wholeslide_EnhancedColors_Extended_vips.tif? (y/n):  y\n"
     ]
    },
    {
     "name": "stdout",
     "output_type": "stream",
     "text": [
      "File removed: /home/jovyan/work/output_files/VIPS/E445_24-1A.1_Big_Jpeg_enhanced/E445_24-1A.1_Wholeslide_EnhancedColors_Extended_vips.tif\n"
     ]
    }
   ],
   "source": [
    "user_input = input(f\"Do you want to remove the file: {output_file}? (y/n): \").lower()\n",
    "while user_input not in ['y', 'n']:\n",
    "    user_input = input(\"Invalid input. Please enter 'y' or 'n': \").lower()\n",
    "\n",
    "if user_input == 'y':\n",
    "    remove_file(output_file)\n",
    "else:\n",
    "    print(f\"Skipping removal of {output_file}\")"
   ]
  },
  {
   "cell_type": "markdown",
   "metadata": {},
   "source": [
    "**2. Remove PathoPatcher Output**"
   ]
  },
  {
   "cell_type": "code",
   "execution_count": null,
   "metadata": {},
   "outputs": [],
   "source": []
  },
  {
   "cell_type": "markdown",
   "metadata": {},
   "source": [
    "## Systematic Evaluation"
   ]
  },
  {
   "cell_type": "code",
   "execution_count": 8,
   "metadata": {},
   "outputs": [],
   "source": [
    "\n",
    "# Function to save VIPS file and measure performance\n",
    "def save_and_measure_performance(input_file, output_file, tile_size, quality, compression):\n",
    "    # Start measuring time\n",
    "    start_time = time.time()\n",
    "\n",
    "    # VIPS command\n",
    "    vips_command = f\"vips tiffsave {input_file} {output_file} \\\n",
    "        --pyramid \\\n",
    "        --tile \\\n",
    "        --tile-width {tile_size} \\\n",
    "        --tile-height {tile_size} \\\n",
    "        --compression {compression} \\\n",
    "        -Q {quality} \\\n",
    "        --vips-progress \\\n",
    "        --vips-concurrency=4 \\\n",
    "        --vips-cache-max-memory=8000000000\"\n",
    "    \n",
    "    !{vips_command}\n",
    "\n",
    "    # Stop measuring time\n",
    "    end_time = time.time()\n",
    "    elapsed_time = end_time - start_time\n",
    "\n",
    "    # Get file size\n",
    "    file_size = get_file_size_in_mb(output_file)\n",
    "\n",
    "    # Try to open with OpenSlide\n",
    "    try:\n",
    "        slide = OpenSlide(output_file)\n",
    "        openslide_error = None\n",
    "    except Exception as e:\n",
    "        openslide_error = str(e)\n",
    "        \n",
    "    #remove_file(output_file)\n",
    "    \n",
    "    return {\n",
    "        'Tile Size': tile_size,\n",
    "        'Quality': quality,\n",
    "        'Compression': compression,\n",
    "        'Elapsed Time (s)': elapsed_time,\n",
    "        'File Size (MB)': file_size,\n",
    "        'OpenSlide Error': openslide_error\n",
    "    }\n"
   ]
  },
  {
   "cell_type": "code",
   "execution_count": 22,
   "metadata": {},
   "outputs": [
    {
     "name": "stdout",
     "output_type": "stream",
     "text": [
      "vips ./input_files/3DHistech/Testscans-Fabian/E445_24-1A.1_Big_Loss8_raw/E445_24-1A.1_Wholeslide_Default_Extended.tif: 67072 x 149760 pixels, 4 threads, 67072 x 1 tiles, 128 lines in buffer\n",
      "vips ./input_files/3DHistech/Testscans-Fabian/E445_24-1A.1_Big_Loss8_raw/E445_24-1A.1_Wholeslide_Default_Extended.tif: done in 527s          \n",
      "   Tile Size  Quality Compression  Elapsed Time (s)  File Size (MB)  \\\n",
      "0        256      100        none        528.576887    38378.161085   \n",
      "\n",
      "  OpenSlide Error  \n",
      "0            None  \n"
     ]
    }
   ],
   "source": [
    "input_file = \"./input_files/3DHistech/Testscans-Fabian/E445_24-1A.1_Big_Loss8_raw/E445_24-1A.1_Wholeslide_Default_Extended.tif\"\n",
    "output_folder = \"./output_files/VIPS\"\n",
    "\n",
    "# Define Output Path\n",
    "input_file_path_obj = Path(input_file)\n",
    "output_folder = Path(output_folder)\n",
    "\n",
    "output_file_dir = output_folder / input_file_path_obj.parent.name \n",
    "output_file_dir.mkdir(exist_ok=True, parents=True)\n",
    "\n",
    "tile_sizes = [256]\n",
    "qualities = [100]#, 90, 95, 98, 100]\n",
    "compressions = [\"none\"]\n",
    "\n",
    "# Results table\n",
    "results = []\n",
    "\n",
    "# Loop through combinations\n",
    "for tile_size in tile_sizes:\n",
    "    for quality in qualities:\n",
    "        for compression in compressions:\n",
    "            output_file = (output_file_dir / f\"{input_file_path_obj.stem}_vips_{tile_size}_{quality}_{compression}.tif\").resolve()\n",
    "            result = save_and_measure_performance(input_file, output_file, tile_size, quality, compression)\n",
    "            results.append(result)\n",
    "\n",
    "# Create DataFrame\n",
    "results_df = pd.DataFrame(results)\n",
    "\n",
    "# Display the results table\n",
    "print(results_df)"
   ]
  },
  {
   "cell_type": "code",
   "execution_count": null,
   "metadata": {},
   "outputs": [],
   "source": []
  }
 ],
 "metadata": {
  "kernelspec": {
   "display_name": "Python 3 (ipykernel)",
   "language": "python",
   "name": "python3"
  },
  "language_info": {
   "codemirror_mode": {
    "name": "ipython",
    "version": 3
   },
   "file_extension": ".py",
   "mimetype": "text/x-python",
   "name": "python",
   "nbconvert_exporter": "python",
   "pygments_lexer": "ipython3",
   "version": "3.11.7"
  }
 },
 "nbformat": 4,
 "nbformat_minor": 4
}
