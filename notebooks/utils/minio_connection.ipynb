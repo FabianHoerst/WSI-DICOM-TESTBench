{
 "cells": [
  {
   "cell_type": "markdown",
   "id": "44bd9777",
   "metadata": {},
   "source": [
    "# Connect to MINIO Storage and list WSI\n",
    "\n",
    "Documentation can be found here: https://min.io/docs/minio/linux/developers/python/API.html"
   ]
  },
  {
   "cell_type": "code",
   "execution_count": 1,
   "id": "d4665ee4-9b00-4e88-b369-d14453667a99",
   "metadata": {},
   "outputs": [
    {
     "name": "stdout",
     "output_type": "stream",
     "text": [
      "Object storage reachable\n"
     ]
    }
   ],
   "source": [
    "from minio import Minio\n",
    "\n",
    "host = \"minio:9000\"\n",
    "access_key = \"demo\"\n",
    "secret_key = \"demodemo\"\n",
    "\n",
    "client = Minio(\n",
    "    host,\n",
    "    access_key=access_key,\n",
    "    secret_key=secret_key,\n",
    "    secure=False\n",
    ")\n",
    "\n",
    "try:\n",
    "    client.list_buckets()\n",
    "    print(\"Object storage reachable\")\n",
    "except:\n",
    "    print(\"Object storage not reachable\")"
   ]
  },
  {
   "cell_type": "markdown",
   "id": "0d30c9ac",
   "metadata": {},
   "source": [
    "### List all available buckets"
   ]
  },
  {
   "cell_type": "code",
   "execution_count": 9,
   "id": "7228fec9-e464-43c7-ab54-88f37888b69e",
   "metadata": {},
   "outputs": [
    {
     "data": {
      "text/plain": [
       "[Bucket('orthanc'), Bucket('wsi-storage')]"
      ]
     },
     "execution_count": 9,
     "metadata": {},
     "output_type": "execute_result"
    }
   ],
   "source": [
    "client.list_buckets()"
   ]
  },
  {
   "cell_type": "markdown",
   "id": "85126945-9c1e-4d20-982f-399cb47b3d48",
   "metadata": {},
   "source": [
    "### Analyze Bucket Content"
   ]
  },
  {
   "cell_type": "code",
   "execution_count": 10,
   "id": "ec50121c-cb66-4d88-943d-d4510edf27d6",
   "metadata": {},
   "outputs": [
    {
     "name": "stdout",
     "output_type": "stream",
     "text": [
      "Files in bucket: 26\n"
     ]
    }
   ],
   "source": [
    "# List objects information\n",
    "objects = list(client.list_objects(\"orthanc\"))\n",
    "print(f\"Files in bucket: {len(objects)}\")"
   ]
  },
  {
   "cell_type": "markdown",
   "id": "dfd0cd18-90f0-40f6-a41d-8f748f56a6d1",
   "metadata": {},
   "source": [
    "### Download all files from bucket"
   ]
  },
  {
   "cell_type": "code",
   "execution_count": 27,
   "id": "cdb546a8-e40f-4e6a-a476-0db31c996fc1",
   "metadata": {},
   "outputs": [
    {
     "name": "stdout",
     "output_type": "stream",
     "text": [
      "File '0fd9d50e-960b-48ab-8d84-ec4a99862b24.dcm' downloaded successfully.\n",
      "File '2bb48968-25b5-46d5-9401-405c37b9c1a6.dcm' downloaded successfully.\n",
      "File '39cea12c-5a5e-43d5-94f8-c94a9c73c32f.dcm' downloaded successfully.\n",
      "File '434e4c77-f3c6-4a57-a339-25d6d759f53f.dcm' downloaded successfully.\n",
      "File '485d3346-146f-404b-9ef1-ada3c49d52fc.dcm' downloaded successfully.\n",
      "File '530c1cd9-9e32-4826-8a2f-90a492a1c083.dcm' downloaded successfully.\n",
      "File '5a80319b-3e1e-4327-a667-cae234e1b218.dcm' downloaded successfully.\n",
      "File '5af516b9-8db3-4686-b63a-ba7980849d7e.dcm' downloaded successfully.\n",
      "File '6e05b2af-eb95-44a0-a291-480efd7549f8.dcm' downloaded successfully.\n",
      "File '6ec23d20-c43d-424e-8f9e-0f4b9d7531a6.dcm' downloaded successfully.\n",
      "File '76843d24-bef7-4b64-813c-eeefc48757ee.dcm' downloaded successfully.\n",
      "File '7b3d298a-f7f7-4dfd-91b7-c9285e4047ab.dcm' downloaded successfully.\n",
      "File '817191c9-ed0c-4110-806d-215bd6579d1c.dcm' downloaded successfully.\n",
      "File '8c91c9fc-5d94-4769-b681-007ba2ccaf17.dcm' downloaded successfully.\n",
      "File '8d85bd1b-f96f-4d0a-9f4d-3a204b81057c.dcm' downloaded successfully.\n",
      "File '97b2a2b3-2a27-4d38-95c9-fcb1d36a821f.dcm' downloaded successfully.\n",
      "File 'a6337908-a71a-4d28-84e3-150a0b813bd6.dcm' downloaded successfully.\n",
      "File 'ace953cf-74f7-4e63-938b-6617a94868b8.dcm' downloaded successfully.\n",
      "File 'b8234f0d-14e7-4d42-a3e3-47940fafc0e0.dcm' downloaded successfully.\n",
      "File 'bc4aab1c-05a6-42b5-a1f8-c228343fd9b6.dcm' downloaded successfully.\n",
      "File 'be16eeb7-6632-49fd-a474-315fb557de48.dcm' downloaded successfully.\n",
      "File 'c2f5c04f-ef0a-4cde-8f77-0d0577797fd7.dcm' downloaded successfully.\n",
      "File 'd9355653-7164-4fb6-921c-4299a3a0b7cd.dcm' downloaded successfully.\n",
      "File 'dcb305d6-7276-4ab7-96ed-a7554436126d.dcm' downloaded successfully.\n",
      "File 'e03182ac-92a6-4093-94e1-f1ca2e213028.dcm' downloaded successfully.\n",
      "File 'fc797af3-8957-4605-9bf9-3f4a8ff273ef.unk' downloaded successfully.\n",
      "File 'fe41bf59-a62e-4368-b45c-8050566fe109.dcm' downloaded successfully.\n"
     ]
    }
   ],
   "source": [
    "# List objects information recursively.\n",
    "objects = client.list_objects(\"orthanc\", recursive=True)\n",
    "for obj in objects:\n",
    "    # Download the file from Minio\n",
    "    client.fget_object(\n",
    "        \"orthanc\",\n",
    "        obj.object_name,\n",
    "        f\"./Download-Files/{obj.object_name}\"  # Save the file with the same name locally\n",
    "    )\n",
    "    print(f\"File '{obj.object_name}' downloaded successfully.\")\n"
   ]
  }
 ],
 "metadata": {
  "kernelspec": {
   "display_name": "Python 3 (ipykernel)",
   "language": "python",
   "name": "python3"
  },
  "language_info": {
   "codemirror_mode": {
    "name": "ipython",
    "version": 3
   },
   "file_extension": ".py",
   "mimetype": "text/x-python",
   "name": "python",
   "nbconvert_exporter": "python",
   "pygments_lexer": "ipython3",
   "version": "3.11.7"
  }
 },
 "nbformat": 4,
 "nbformat_minor": 5
}
