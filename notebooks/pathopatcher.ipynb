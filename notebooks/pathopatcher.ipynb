{
 "cells": [
  {
   "cell_type": "code",
   "execution_count": 2,
   "id": "bd2f7315-63a9-4ccd-b5e9-bbc9888234a2",
   "metadata": {},
   "outputs": [
    {
     "name": "stdout",
     "output_type": "stream",
     "text": [
      "\u001b[37m2024-01-23 10:47:49,062 [INFO] - Using OpenSlide\n",
      "\u001b[0m\u001b[37m2024-01-23 10:47:49,063 [INFO] - Data store directory: /home/jovyan/work/work/output_files/PathoPatcher/TMP\n",
      "\u001b[0m\u001b[37m2024-01-23 10:47:49,064 [INFO] - Images found: 0\n",
      "\u001b[0m\u001b[37m2024-01-23 10:47:49,066 [INFO] - Annotations found: 0\n",
      "\u001b[0m\u001b[37m2024-01-23 10:47:49,068 [INFO] - Removing complete dataset! This may take a while.\n",
      "\u001b[0m\u001b[37m2024-01-23 10:47:49,071 [INFO] - Patches saved to: /home/jovyan/work/work/output_files/PathoPatcher/TMP\n",
      "\u001b[0m\u001b[37m2024-01-23 10:47:49,072 [INFO] - Total patches sampled for all WSI: 0\n",
      "\u001b[0m\u001b[37m2024-01-23 10:47:49,073 [INFO] - Time usage: 0:00:00.002615\n",
      "\u001b[0m\u001b[37m2024-01-23 10:47:49,075 [INFO] - Finished Preprocessing.\n",
      "\u001b[0m\u001b[0m"
     ]
    }
   ],
   "source": [
    "!wsi_extraction \\\n",
    "    --wsi_paths \"work/output_files/Leica-Proprietär/Test-Scans-22-01-2024/1.3.6.1.4.1.36533.23618723623623315375193129172361563825111797.dcm\" \\\n",
    "    --output_path \"work/output_files/PathoPatcher/TMP\" \\\n",
    "    --wsi_extension \"dcm\" \\\n",
    "    --patch_size 1024 \\\n",
    "    --patch_overlap 6.25 \\\n",
    "    --min_intersection_ratio 0.05 \\\n",
    "    --target_mag 40 \\\n",
    "    --overwrite \\\n",
    "    --processes 8 \\\n",
    "    --apply_prefilter \\\n",
    "    --wsi_magnification 40"
   ]
  },
  {
   "cell_type": "code",
   "execution_count": null,
   "id": "f0856a65-79f3-4aa0-8a91-036774f3ab0c",
   "metadata": {},
   "outputs": [],
   "source": []
  }
 ],
 "metadata": {
  "kernelspec": {
   "display_name": "Python 3 (ipykernel)",
   "language": "python",
   "name": "python3"
  },
  "language_info": {
   "codemirror_mode": {
    "name": "ipython",
    "version": 3
   },
   "file_extension": ".py",
   "mimetype": "text/x-python",
   "name": "python",
   "nbconvert_exporter": "python",
   "pygments_lexer": "ipython3",
   "version": "3.11.7"
  }
 },
 "nbformat": 4,
 "nbformat_minor": 5
}
