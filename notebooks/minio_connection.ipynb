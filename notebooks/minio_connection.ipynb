{
 "cells": [
  {
   "cell_type": "markdown",
   "id": "44bd9777",
   "metadata": {},
   "source": [
    "# Connect to MINIO Storage and list WSI\n",
    "\n",
    "Documentation can be found here: https://min.io/docs/minio/linux/developers/python/API.html"
   ]
  },
  {
   "cell_type": "code",
   "execution_count": null,
   "id": "d4665ee4-9b00-4e88-b369-d14453667a99",
   "metadata": {},
   "outputs": [],
   "source": [
    "from minio import Minio\n",
    "\n",
    "host = \"minio:9000\"\n",
    "access_key = \"demo\"\n",
    "secret_key = \"demodemo\"\n",
    "\n",
    "client = Minio(\n",
    "    host,\n",
    "    access_key=access_key,\n",
    "    secret_key=secret_key,\n",
    "    secure=False\n",
    ")\n",
    "\n",
    "try:\n",
    "    client.list_buckets()\n",
    "    print(\"Object storage reachable\")\n",
    "except:\n",
    "    print(\"Object storage not reachable\")"
   ]
  },
  {
   "cell_type": "markdown",
   "id": "0d30c9ac",
   "metadata": {},
   "source": [
    "### List all available buckets"
   ]
  },
  {
   "cell_type": "code",
   "execution_count": null,
   "id": "7228fec9-e464-43c7-ab54-88f37888b69e",
   "metadata": {},
   "outputs": [],
   "source": [
    "client.list_buckets()"
   ]
  },
  {
   "cell_type": "markdown",
   "id": "85126945-9c1e-4d20-982f-399cb47b3d48",
   "metadata": {},
   "source": [
    "### Analyze Bucket Content"
   ]
  },
  {
   "cell_type": "code",
   "execution_count": null,
   "id": "ec50121c-cb66-4d88-943d-d4510edf27d6",
   "metadata": {},
   "outputs": [],
   "source": [
    "# List objects information\n",
    "objects = list(client.list_objects(\"orthanc\"))\n",
    "print(f\"Files in bucket: {len(objects)}\")"
   ]
  },
  {
   "cell_type": "markdown",
   "id": "dfd0cd18-90f0-40f6-a41d-8f748f56a6d1",
   "metadata": {},
   "source": [
    "### Download all files from bucket"
   ]
  },
  {
   "cell_type": "code",
   "execution_count": null,
   "id": "cdb546a8-e40f-4e6a-a476-0db31c996fc1",
   "metadata": {},
   "outputs": [],
   "source": [
    "# List objects information recursively.\n",
    "objects = client.list_objects(\"orthanc\", recursive=True)\n",
    "for obj in objects:\n",
    "    # Download the file from Minio\n",
    "    client.fget_object(\n",
    "        \"orthanc\",\n",
    "        obj.object_name,\n",
    "        f\"./Download-Files/{obj.object_name}\"  # Save the file with the same name locally\n",
    "    )\n",
    "    print(f\"File '{obj.object_name}' downloaded successfully.\")\n"
   ]
  }
 ],
 "metadata": {
  "kernelspec": {
   "display_name": "Python 3 (ipykernel)",
   "language": "python",
   "name": "python3"
  },
  "language_info": {
   "codemirror_mode": {
    "name": "ipython",
    "version": 3
   },
   "file_extension": ".py",
   "mimetype": "text/x-python",
   "name": "python",
   "nbconvert_exporter": "python",
   "pygments_lexer": "ipython3",
   "version": "3.11.7"
  }
 },
 "nbformat": 4,
 "nbformat_minor": 5
}
