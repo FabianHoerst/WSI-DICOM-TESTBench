{
 "cells": [
  {
   "cell_type": "code",
   "execution_count": null,
   "metadata": {},
   "outputs": [],
   "source": [
    "from openslide import OpenSlide\n",
    "from openslide.deepzoom import DeepZoomGenerator\n",
    "from pathlib import Path"
   ]
  },
  {
   "cell_type": "code",
   "execution_count": null,
   "metadata": {},
   "outputs": [],
   "source": [
    "# select path to your file\n",
    "tiff_folder = \"\"\n",
    "example_files = [f for f in Path(tiff_folder).glob(\"*/*.tif*\") if f.is_file()]"
   ]
  },
  {
   "cell_type": "code",
   "execution_count": null,
   "metadata": {},
   "outputs": [],
   "source": [
    "# check if metadata can be loaded\n",
    "def slide_info(slide):\n",
    "    print(\"Level count: %d\" % slide.level_count)\n",
    "    print(\"Level dimensions: \" + str(slide.level_dimensions))\n",
    "    print(\"Level downsamples: \" + str(slide.level_downsamples))\n",
    "    print(\"Dimensions: \" + str(slide.dimensions))\n",
    "    if \"openslide.mpp-x\" in slide.properties:\n",
    "        slide_mpp = float(slide.properties.get(\"openslide.mpp-x\"))\n",
    "        print(f\"MPP: {slide_mpp}\")\n",
    "    else:\n",
    "        print(\"MPP not defined in metadata!\")\n",
    "    if \"openslide.objective-power\" in slide.properties:\n",
    "        slide_mag = float(slide.properties.get(\"openslide.objective-power\"))\n",
    "        print(f\"Magnification: {slide_mag}\")\n",
    "    else:\n",
    "        print(\"Magnification not defined in metadata!\")\n",
    "    print(\"Associated images:\")\n",
    "    for ai_key in slide.associated_images.keys():\n",
    "      print(\"  \" + str(ai_key) + \": \" + str(slide.associated_images.get(ai_key)))\n",
    "    print(\"Properties:\")\n",
    "    for prop_key in slide.properties.keys():\n",
    "        print(\"  Property: \" + str(prop_key) + \", value: \" + str(slide.properties.get(prop_key)))\n",
    "\n",
    "for file in example_files:\n",
    "    print(f\"File: {file}\")\n",
    "    slide = OpenSlide(str(file))\n",
    "    slide_info(slide)\n",
    "    print(\"\\n\")"
   ]
  },
  {
   "cell_type": "code",
   "execution_count": null,
   "metadata": {},
   "outputs": [],
   "source": [
    "# Check if thumbnail can be generated\n",
    "thumbnail = slide.get_thumbnail((1024, 1024))"
   ]
  },
  {
   "cell_type": "code",
   "execution_count": null,
   "metadata": {},
   "outputs": [],
   "source": [
    "# Check if deepzoom and patch extraction works"
   ]
  }
 ],
 "metadata": {
  "kernelspec": {
   "display_name": "Python 3 (ipykernel)",
   "language": "python",
   "name": "python3"
  },
  "language_info": {
   "codemirror_mode": {
    "name": "ipython",
    "version": 3
   },
   "file_extension": ".py",
   "mimetype": "text/x-python",
   "name": "python",
   "nbconvert_exporter": "python",
   "pygments_lexer": "ipython3",
   "version": "3.11.7"
  }
 },
 "nbformat": 4,
 "nbformat_minor": 4
}
